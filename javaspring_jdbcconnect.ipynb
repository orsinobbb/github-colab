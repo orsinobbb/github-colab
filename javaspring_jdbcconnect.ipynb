{
  "nbformat": 4,
  "nbformat_minor": 0,
  "metadata": {
    "colab": {
      "provenance": [],
      "authorship_tag": "ABX9TyORnMKG4E+spfzIXV/2FVOU",
      "include_colab_link": true
    },
    "kernelspec": {
      "name": "python3",
      "display_name": "Python 3"
    },
    "language_info": {
      "name": "python"
    }
  },
  "cells": [
    {
      "cell_type": "markdown",
      "metadata": {
        "id": "view-in-github",
        "colab_type": "text"
      },
      "source": [
        "<a href=\"https://colab.research.google.com/github/orsinobbb/github-colab/blob/main/javaspring_jdbcconnect.ipynb\" target=\"_parent\"><img src=\"https://colab.research.google.com/assets/colab-badge.svg\" alt=\"Open In Colab\"/></a>"
      ]
    },
    {
      "cell_type": "code",
      "execution_count": null,
      "metadata": {
        "id": "gUrHTRijIPSJ"
      },
      "outputs": [],
      "source": [
        "<?xml version=\"1.0\" encoding=\"UTF-8\"?>\n",
        "<project xmlns=\"http://maven.apache.org/POM/4.0.0\" xmlns:xsi=\"http://www.w3.org/2001/XMLSchema-instance\"\n",
        "\txsi:schemaLocation=\"http://maven.apache.org/POM/4.0.0 https://maven.apache.org/xsd/maven-4.0.0.xsd\">\n",
        "\t<modelVersion>4.0.0</modelVersion>\n",
        "\t<parent>\n",
        "\t\t<groupId>org.springframework.boot</groupId>\n",
        "\t\t<artifactId>spring-boot-starter-parent</artifactId>\n",
        "\t\t<version>2.1.8.RELEASE</version>\n",
        "\t\t<relativePath/> <!-- lookup parent from repository -->\n",
        "\t</parent>\n",
        "\t<groupId>com.example</groupId>\n",
        "\t<artifactId>spring-project-2026</artifactId>\n",
        "\t<version>0.0.1-SNAPSHOT</version>\n",
        "\t<packaging>war</packaging>\n",
        "\t<name>spring-project-2026</name>\n",
        "\t<description>Demo project for Spring Boot</description>\n",
        "\n",
        "\t<properties>\n",
        "\t\t<java.version>1.8</java.version>\n",
        "\t</properties>\n",
        "\n",
        "\t<dependencies>\n",
        "\t\t<dependency>\n",
        "\t\t\t<groupId>org.springframework.boot</groupId>\n",
        "\t\t\t<artifactId>spring-boot-starter-web</artifactId>\n",
        "\t\t</dependency>\n",
        "\n",
        "\t\t<dependency>\n",
        "\t\t\t<groupId>org.springframework.boot</groupId>\n",
        "\t\t\t<artifactId>spring-boot-starter-tomcat</artifactId>\n",
        "\t\t\t<scope>provided</scope>\n",
        "\t\t</dependency>\n",
        "\t\t<dependency>\n",
        "\t\t\t<groupId>org.springframework.boot</groupId>\n",
        "\t\t\t<artifactId>spring-boot-starter-test</artifactId>\n",
        "\t\t\t<scope>test</scope>\n",
        "\t\t</dependency>\n",
        "\n",
        "\t\t<!-- Template Engine -->\n",
        "\t\t<dependency>\n",
        "      \t\t<groupId>org.springframework.boot</groupId>\n",
        "      \t\t<artifactId>spring-boot-starter-thymeleaf</artifactId>\n",
        "    \t</dependency>\n",
        "\n",
        "    \t<!-- For DataBase connection -->\n",
        "    \t<dependency>\n",
        "    \t\t<groupId>mysql</groupId>\n",
        "    \t\t<artifactId>mysql-connector-java</artifactId>\n",
        "\t\t\t<scope>runtime</scope>\n",
        "\t\t</dependency>\n",
        "\n",
        "\t\t<!-- For DataBase connection -->\n",
        "    \t<dependency>\n",
        "    \t\t<groupId>org.springframework.boot</groupId>\n",
        "    \t\t<artifactId>spring-boot-starter-jdbc</artifactId>\n",
        "\t\t</dependency>\n",
        "\n",
        "\n",
        "\t</dependencies>\n",
        "\n",
        "\t<build>\n",
        "\t\t<plugins>\n",
        "\t\t\t<plugin>\n",
        "\t\t\t\t<groupId>org.springframework.boot</groupId>\n",
        "\t\t\t\t<artifactId>spring-boot-maven-plugin</artifactId>\n",
        "\t\t\t</plugin>\n",
        "\t\t</plugins>\n",
        "\t</build>\n",
        "\n",
        "</project>"
      ]
    }
  ]
}