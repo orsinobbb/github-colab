{
  "nbformat": 4,
  "nbformat_minor": 0,
  "metadata": {
    "colab": {
      "provenance": [],
      "mount_file_id": "1cN_c5-oXEB765Txe7lnnTVbUoENbOqWm",
      "authorship_tag": "ABX9TyN3T8dzHVb9v4dhhxnfeY5r",
      "include_colab_link": true
    },
    "kernelspec": {
      "name": "python3",
      "display_name": "Python 3"
    },
    "language_info": {
      "name": "python"
    }
  },
  "cells": [
    {
      "cell_type": "markdown",
      "metadata": {
        "id": "view-in-github",
        "colab_type": "text"
      },
      "source": [
        "<a href=\"https://colab.research.google.com/github/orsinobbb/github-colab/blob/main/%E7%88%AC%E5%A4%A9%E6%B0%A3%E9%A0%90%E5%A0%B1line-notify%E6%8E%A8%E6%92%AD.ipynb\" target=\"_parent\"><img src=\"https://colab.research.google.com/assets/colab-badge.svg\" alt=\"Open In Colab\"/></a>"
      ]
    },
    {
      "cell_type": "code",
      "execution_count": null,
      "metadata": {
        "id": "8akBuQ2P5970"
      },
      "outputs": [],
      "source": [
        "#nBEB80d3fCK1XGh3ErFREWIuOgxZHTKnLxr3Kyb8JFK\n",
        "\n",
        "import requests\n",
        "\n",
        "url = 'https://notify-api.line.me/api/notify'\n",
        "token = 'nBEB80d3fCK1XGh3ErFREWIuOgxZHTKnLxr3Kyb8JFK'\n",
        "headers = {\n",
        "    'Authorization': 'Bearer ' + token    # 設定權杖\n",
        "}\n",
        "data = {\n",
        "    'message':'測試一下！'     # 設定要發送的訊息\n",
        "}\n",
        "data = requests.post(url, headers=headers, data=data)   # 使用 POST 方法"
      ]
    },
    {
      "cell_type": "code",
      "source": [
        "import requests\n",
        "\n",
        "radar_url = 'https://opendata.cwb.gov.tw/fileapi/v1/opendataapi/O-A0058-003?Authorization=rdec-key-123-45678-011121314&format=JSON'\n",
        "radar = requests.get(radar_url)        # 爬取資料\n",
        "radar_json = radar.json()              # 使用 JSON 格式\n",
        "radar_img = radar_json['cwaopendata']['dataset']['resource']['ProductURL']  # 取得圖片網址\n",
        "print(radar_img)\n",
        "\n",
        "url = 'https://notify-api.line.me/api/notify'    # LINE Notify API 網址\n",
        "token = 'nBEB80d3fCK1XGh3ErFREWIuOgxZHTKnLxr3Kyb8JFK'                   # 自己申請的 LINE Notify 權杖\n",
        "headers = {\n",
        "    'Authorization': 'Bearer ' + token           # POST 使用的 headers\n",
        "}\n",
        "data = {\n",
        "    'message':'從雷達回波看看會不會下雨～',   # 發送的訊息\n",
        "    'imageThumbnail':radar_img,          # 預覽圖網址\n",
        "    'imageFullsize':radar_img            # 完整圖片網址\n",
        "}\n",
        "data = requests.post(url, headers=headers, data=data)    # 發送 LINE NOtify"
      ],
      "metadata": {
        "colab": {
          "base_uri": "https://localhost:8080/"
        },
        "id": "7mGosK7WCpOH",
        "outputId": "e5c78de3-0205-48b5-ad20-4cabaf61ab1e"
      },
      "execution_count": null,
      "outputs": [
        {
          "output_type": "stream",
          "name": "stdout",
          "text": [
            "https://cwaopendata.s3.ap-northeast-1.amazonaws.com/Observation/O-A0058-003.png\n"
          ]
        }
      ]
    },
    {
      "cell_type": "code",
      "source": [
        "import requests\n",
        "\n",
        "radar_url = 'https://opendata.cwb.gov.tw/fileapi/v1/opendataapi/O-A0058-003?Authorization=rdec-key-123-45678-011121314&format=JSON'\n",
        "radar = requests.get(radar_url)\n",
        "radar_json = radar.json()\n",
        "radar_img = radar_json['cwaopendata']['dataset']['resource']['ProductURL']\n",
        "radat_time = radar_json['cwaopendata']['dataset']['DateTime']   # 取得時間# 取得時間\n",
        "print(radar_img)\n",
        "\n",
        "url = 'https://notify-api.line.me/api/notify'\n",
        "token = 'nBEB80d3fCK1XGh3ErFREWIuOgxZHTKnLxr3Kyb8JFK'\n",
        "headers = {\n",
        "    'Authorization': 'Bearer ' + token\n",
        "}\n",
        "data = {\n",
        "    'message':'從雷達回波看看會不會下雨～',\n",
        "    'imageThumbnail':radar_img + '?' + radat_time,    # 加上時間參數\n",
        "    'imageFullsize':radar_img + '?' + radat_time      # 加上時間參數\n",
        "}\n",
        "data = requests.post(url, headers=headers, data=data)"
      ],
      "metadata": {
        "colab": {
          "base_uri": "https://localhost:8080/"
        },
        "id": "GhPI6exPEIP1",
        "outputId": "05265568-0a56-4955-f584-83b59fccf132"
      },
      "execution_count": null,
      "outputs": [
        {
          "output_type": "stream",
          "name": "stdout",
          "text": [
            "https://cwaopendata.s3.ap-northeast-1.amazonaws.com/Observation/O-A0058-003.png\n"
          ]
        }
      ]
    }
  ]
}